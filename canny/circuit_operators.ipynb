{
 "cells": [
  {
   "cell_type": "markdown",
   "id": "10d8d32b",
   "metadata": {},
   "source": [
    "# Quantum Canny Edge Dectector Operators\n",
    "\n",
    "This notebook presents some tools developed by [1] for use in their quantum canny edge detection circuit\n",
    "\n",
    "## Integer Comparator"
   ]
  },
  {
   "cell_type": "code",
   "execution_count": 1,
   "id": "8b64a290",
   "metadata": {},
   "outputs": [],
   "source": [
    "import utils\n",
    "import operations\n",
    "\n",
    "from qiskit import Aer, transpile\n",
    "from qiskit.circuit import QuantumCircuit, QuantumRegister, ClassicalRegister as cr\n",
    "from qiskit.tools.visualization import plot_histogram"
   ]
  },
  {
   "cell_type": "code",
   "execution_count": 2,
   "id": "088379c5",
   "metadata": {},
   "outputs": [
    {
     "name": "stdout",
     "output_type": "stream",
     "text": [
      "     ┌─────────┐                                                  \n",
      "x_0: ┤0        ├──■────■────o────o────────────────────────────────\n",
      "     │         │  │    │    │    │                                \n",
      "x_1: ┤1 to_bin ├──┼────┼────┼────┼────■────■────o────o────────────\n",
      "     │         │  │    │    │    │    │    │    │    │            \n",
      "x_2: ┤2        ├──┼────┼────┼────┼────┼────┼────┼────┼────■────o──\n",
      "     ├─────────┤  │    │    │    │    │    │    │    │    │    │  \n",
      "y_0: ┤0        ├──o────o────■────■────┼────┼────┼────┼────┼────┼──\n",
      "     │         │  │    │    │    │    │    │    │    │    │    │  \n",
      "y_1: ┤1 to_bin ├──┼────┼────┼────┼────o────o────■────■────┼────┼──\n",
      "     │         │  │    │    │    │    │    │    │    │    │    │  \n",
      "y_2: ┤2        ├──┼────┼────┼────┼────┼────┼────┼────┼────o────■──\n",
      "     └─────────┘  │  ┌─┴─┐  │    │    │    │    │    │    │    │  \n",
      "a_0: ─────────────┼──┤ X ├──┼────┼────o────o────o────o────o────o──\n",
      "                  │  └───┘  │  ┌─┴─┐  │    │    │    │    │    │  \n",
      "a_1: ─────────────┼─────────┼──┤ X ├──o────o────o────o────o────o──\n",
      "                  │         │  └───┘  │  ┌─┴─┐  │    │    │    │  \n",
      "a_2: ─────────────┼─────────┼─────────┼──┤ X ├──┼────┼────o────o──\n",
      "                  │         │         │  └───┘  │  ┌─┴─┐  │    │  \n",
      "a_3: ─────────────┼─────────┼─────────┼─────────┼──┤ X ├──o────o──\n",
      "                ┌─┴─┐       │       ┌─┴─┐       │  └───┘┌─┴─┐  │  \n",
      "e_0: ───────────┤ X ├───────┼───────┤ X ├───────┼───────┤ X ├──┼──\n",
      "                └───┘     ┌─┴─┐     └───┘     ┌─┴─┐     └───┘┌─┴─┐\n",
      "e_1: ─────────────────────┤ X ├───────────────┤ X ├──────────┤ X ├\n",
      "                          └───┘               └───┘          └───┘\n"
     ]
    }
   ],
   "source": [
    "circuit = operations.quant_compare_int(5, 4)\n",
    "print(circuit)"
   ]
  },
  {
   "cell_type": "code",
   "execution_count": 3,
   "id": "0abcdab0",
   "metadata": {},
   "outputs": [
    {
     "data": {
      "image/png": "[encoded data removed]",
      "text/plain": [
       "<Figure size 200x200 with 1 Axes>"
      ]
     },
     "execution_count": 3,
     "metadata": {},
     "output_type": "execute_result"
    }
   ],
   "source": [
    "output_register = cr(2, 'c0')\n",
    "circuit.add_register(output_register)\n",
    "circuit.measure([circuit.num_qubits - 1, circuit.num_qubits - 2], output_register)\n",
    "simulator = Aer.get_backend('aer_simulator')\n",
    "circ = transpile(circuit, simulator)\n",
    "result = simulator.run(circ).result()\n",
    "counts = result.get_counts(circ)\n",
    "plot_histogram(counts, title='First Register Greater', figsize=(2,2))"
   ]
  },
  {
   "cell_type": "code",
   "execution_count": 4,
   "id": "3d4c1115",
   "metadata": {},
   "outputs": [
    {
     "name": "stdout",
     "output_type": "stream",
     "text": [
      "     ┌─────────┐                                                  \n",
      "x_0: ┤0        ├──■────■────o────o────────────────────────────────\n",
      "     │         │  │    │    │    │                                \n",
      "x_1: ┤1 to_bin ├──┼────┼────┼────┼────■────■────o────o────────────\n",
      "     │         │  │    │    │    │    │    │    │    │            \n",
      "x_2: ┤2        ├──┼────┼────┼────┼────┼────┼────┼────┼────■────o──\n",
      "     ├─────────┤  │    │    │    │    │    │    │    │    │    │  \n",
      "y_0: ┤0        ├──o────o────■────■────┼────┼────┼────┼────┼────┼──\n",
      "     │         │  │    │    │    │    │    │    │    │    │    │  \n",
      "y_1: ┤1 to_bin ├──┼────┼────┼────┼────o────o────■────■────┼────┼──\n",
      "     │         │  │    │    │    │    │    │    │    │    │    │  \n",
      "y_2: ┤2        ├──┼────┼────┼────┼────┼────┼────┼────┼────o────■──\n",
      "     └─────────┘  │  ┌─┴─┐  │    │    │    │    │    │    │    │  \n",
      "a_0: ─────────────┼──┤ X ├──┼────┼────o────o────o────o────o────o──\n",
      "                  │  └───┘  │  ┌─┴─┐  │    │    │    │    │    │  \n",
      "a_1: ─────────────┼─────────┼──┤ X ├──o────o────o────o────o────o──\n",
      "                  │         │  └───┘  │  ┌─┴─┐  │    │    │    │  \n",
      "a_2: ─────────────┼─────────┼─────────┼──┤ X ├──┼────┼────o────o──\n",
      "                  │         │         │  └───┘  │  ┌─┴─┐  │    │  \n",
      "a_3: ─────────────┼─────────┼─────────┼─────────┼──┤ X ├──o────o──\n",
      "                ┌─┴─┐       │       ┌─┴─┐       │  └───┘┌─┴─┐  │  \n",
      "e_0: ───────────┤ X ├───────┼───────┤ X ├───────┼───────┤ X ├──┼──\n",
      "                └───┘     ┌─┴─┐     └───┘     ┌─┴─┐     └───┘┌─┴─┐\n",
      "e_1: ─────────────────────┤ X ├───────────────┤ X ├──────────┤ X ├\n",
      "                          └───┘               └───┘          └───┘\n"
     ]
    }
   ],
   "source": [
    "circuit = operations.quant_compare_int(3, 7)\n",
    "print(circuit)"
   ]
  },
  {
   "cell_type": "code",
   "execution_count": 5,
   "id": "23b9ba79",
   "metadata": {},
   "outputs": [
    {
     "data": {
      "image/png": "[encoded data removed]",
      "text/plain": [
       "<Figure size 200x200 with 1 Axes>"
      ]
     },
     "execution_count": 5,
     "metadata": {},
     "output_type": "execute_result"
    }
   ],
   "source": [
    "output_register = cr(2, 'c0')\n",
    "circuit.add_register(output_register)\n",
    "circuit.measure([circuit.num_qubits - 1, circuit.num_qubits - 2], output_register)\n",
    "circ = transpile(circuit, simulator)\n",
    "result = simulator.run(circ).result()\n",
    "counts = result.get_counts(circ)\n",
    "plot_histogram(counts, title='Second Register Greater', figsize=(2,2))"
   ]
  },
  {
   "cell_type": "code",
   "execution_count": 6,
   "id": "4f5d64ac",
   "metadata": {},
   "outputs": [
    {
     "name": "stdout",
     "output_type": "stream",
     "text": [
      "     ┌─────────┐                              \n",
      "x_0: ┤0        ├──■────■────o────o────────────\n",
      "     │  to_bin │  │    │    │    │            \n",
      "x_1: ┤1        ├──┼────┼────┼────┼────■────o──\n",
      "     ├─────────┤  │    │    │    │    │    │  \n",
      "y_0: ┤0        ├──o────o────■────■────┼────┼──\n",
      "     │  to_bin │  │    │    │    │    │    │  \n",
      "y_1: ┤1        ├──┼────┼────┼────┼────o────■──\n",
      "     └─────────┘  │  ┌─┴─┐  │    │    │    │  \n",
      "a_0: ─────────────┼──┤ X ├──┼────┼────o────o──\n",
      "                  │  └───┘  │  ┌─┴─┐  │    │  \n",
      "a_1: ─────────────┼─────────┼──┤ X ├──o────o──\n",
      "                ┌─┴─┐       │  └───┘┌─┴─┐  │  \n",
      "e_0: ───────────┤ X ├───────┼───────┤ X ├──┼──\n",
      "                └───┘     ┌─┴─┐     └───┘┌─┴─┐\n",
      "e_1: ─────────────────────┤ X ├──────────┤ X ├\n",
      "                          └───┘          └───┘\n"
     ]
    }
   ],
   "source": [
    "circuit = operations.quant_compare_int(3, 3)\n",
    "print(circuit)"
   ]
  },
  {
   "cell_type": "code",
   "execution_count": 7,
   "id": "93c72b31",
   "metadata": {},
   "outputs": [
    {
     "data": {
      "image/png": "[encoded data removed]",
      "text/plain": [
       "<Figure size 200x200 with 1 Axes>"
      ]
     },
     "execution_count": 7,
     "metadata": {},
     "output_type": "execute_result"
    }
   ],
   "source": [
    "output_register = cr(2, 'c0')\n",
    "circuit.add_register(output_register)\n",
    "circuit.measure([circuit.num_qubits - 1, circuit.num_qubits - 2], output_register)\n",
    "circ = transpile(circuit, simulator)\n",
    "result = simulator.run(circ).result()\n",
    "counts = result.get_counts(circ)\n",
    "plot_histogram(counts, title='Registers Equal', figsize=(2,2))"
   ]
  },
  {
   "cell_type": "code",
   "execution_count": 3,
   "outputs": [
    {
     "name": "stdout",
     "output_type": "stream",
     "text": [
      "      ┌───┐               \n",
      "q0_0: ┤ X ├───────────────\n",
      "      └─┬─┘┌───┐          \n",
      "q0_1: ──■──┤ X ├──────────\n",
      "        │  └─┬─┘┌───┐     \n",
      "q0_2: ──■────■──┤ X ├─────\n",
      "        │    │  └─┬─┘┌───┐\n",
      "q0_3: ──■────■────■──┤ X ├\n",
      "                     └───┘\n"
     ]
    }
   ],
   "source": [
    "print(operations.increment_state(4, as_circuit=True))"
   ],
   "metadata": {
    "collapsed": false
   }
  },
  {
   "cell_type": "markdown",
   "id": "6d66abb2",
   "metadata": {},
   "source": [
    "## References\n",
    "\n",
    "[1] P. Li, “Quantum implementation of the classical canny edge detector,” Multimedia Tools and\n",
    "Applications, vol. 81, pp. 11665 – 11694, 2022.\n"
   ]
  }
 ],
 "metadata": {
  "kernelspec": {
   "display_name": "Python 3 (ipykernel)",
   "language": "python",
   "name": "python3"
  },
  "language_info": {
   "codemirror_mode": {
    "name": "ipython",
    "version": 3
   },
   "file_extension": ".py",
   "mimetype": "text/x-python",
   "name": "python",
   "nbconvert_exporter": "python",
   "pygments_lexer": "ipython3",
   "version": "3.10.2"
  }
 },
 "nbformat": 4,
 "nbformat_minor": 5
}
